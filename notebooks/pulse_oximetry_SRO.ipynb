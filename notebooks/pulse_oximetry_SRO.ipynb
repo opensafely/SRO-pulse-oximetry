{
 "cells": [
  {
   "cell_type": "markdown",
   "metadata": {},
   "source": [
    "# Service Restoration Observatory\n",
    "\n",
    "# Changes occuring in the provision of pulse oximetry related to COVID-19: 07-2020 - 02-21\n",
    "\n",
    "Below are various time-series graphs showing changes in total nationwide the provision of pulse oximetry related to COVID-19 as well as a breakdown by region and other demographic variables.  The following graphs are available:\n",
    "\n",
    "* [Total pulse oximetry number](#total)\n",
    "    * [Total pulse oximetry number by child codes](#child-codes)\n",
    "* [Total pulse oximetry number by practice](#practice)\n",
    "* [Breakdown by region](#region)\n",
    "* [Breakdown by age band](#age)\n",
    "* [Breakdown by sex](#sex)\n",
    "\n",
    "\n",
    "#### Methods\n",
    "Using OpenSAFELY-TPP, covering 40% of England's population, we have assessed coding activity related to pulse oximetry related to COVID-19 in general practice from the beginning of July 2020 until the end of January 2021. The codelist used can be found here at [OpenSAFELY Codelists](https://codelists.opensafely.org/codelist/opensafely/pulse-oximetry/72ce1380/).  For each month within the study period, we have calculated the rate at which the code was recorded per 1000 registered patients.\n",
    "\n",
    "All analytical code and output is available for inspection at the [OpenSAFELY GitHub repository](https://github.com/opensafely/SRO-pulse-oximetry)."
   ]
  },
  {
   "cell_type": "code",
   "execution_count": null,
   "metadata": {},
   "outputs": [],
   "source": [
    "import sys\n",
    "import pandas as pd\n",
    "import numpy as np\n",
    "import matplotlib.pyplot as plt\n",
    "from pandas.plotting import register_matplotlib_converters\n",
    "register_matplotlib_converters()\n",
    "from IPython.display import HTML\n",
    "from IPython.core.display import HTML as Center\n",
    "from utilities import *\n",
    "\n",
    "%matplotlib inline\n",
    "\n",
    "Center(\"\"\" <style>\n",
    ".output_png {\n",
    "    display: table-cell;\n",
    "    text-align: center;\n",
    "    vertical-align: middle;\n",
    "}\n",
    "</style> \"\"\")"
   ]
  },
  {
   "cell_type": "code",
   "execution_count": null,
   "metadata": {},
   "outputs": [],
   "source": [
    "# Load measures df\n",
    "measures_df_total = pd.read_csv('../output/measures/measure_had_pulse_ox_total.csv')\n",
    "measures_df_event_code = pd.read_csv('../output/measures/measure_had_pulse_ox_event_code.csv')\n",
    "measures_df_practice = pd.read_csv('../output/measures/measure_had_pulse_ox_practice_only.csv')\n",
    "measures_df_by_region = pd.read_csv('../output/measures/measure_had_pulse_ox_by_region.csv')\n",
    "measures_df_by_age = pd.read_csv('../output/measures/measure_had_pulse_ox_by_age_band.csv')\n",
    "measures_df_by_sex = pd.read_csv('../output/measures/measure_had_pulse_ox_by_sex.csv')\n",
    "\n",
    "codelist = pd.read_csv('../codelists/opensafely-pulse-oximetry.csv')\n",
    "codelist.round(16)\n",
    "\n",
    "\n",
    "pulse_ox_code_mapping = {\"1325251000000106\": \"Y2a44\",\n",
    "                         \"1325261000000109\": \"Y2a45\",\n",
    "                         \"1325271000000102\": \"Y2a46\",\n",
    "                         \"1325201000000105\": \"Y2a47\",\n",
    "                         \"1325191000000108\": \"Y2a48\", \n",
    "                         \"1325221000000101\": \"Y2a49\",\n",
    "                         \"1325241000000108\": \"Y2a4a\",\n",
    "                         \"1325281000000100\": \"Y2a4b\",\n",
    "                         \"1325681000000102\": \"Y2b97\",\n",
    "                         \"1325701000000100\": \"Y2b98\",\n",
    "                         \"1325691000000100\": \"Y2b99\",\n",
    "                         \"1325211000000107\": \"YA796\"\n",
    "                         }\n",
    "                         \n",
    "\n",
    "def apply_code_mapping(row):\n",
    "    row['CTV3ID'] = pulse_ox_code_mapping[str(row['code'])]\n",
    "    return row\n",
    "\n",
    "codelist = codelist.apply(lambda row: apply_code_mapping(row), axis=1)\n",
    "\n",
    "\n",
    "measures_df_event_code.round(16)\n",
    "\n",
    "# temporary fix for population not working in Measures\n",
    "measures_df_total = measures_df_total.groupby(\n",
    "    ['date'])['had_pulse_ox', 'population'].sum().reset_index()\n",
    "measures_df_total['value'] = measures_df_total['had_pulse_ox'] /measures_df_total['population']\n",
    "\n",
    "\n",
    "\n",
    "# Get measures\n",
    "\n",
    "class Measure:\n",
    "  def __init__(self, id, numerator, denominator, group_by):\n",
    "    self.id = id\n",
    "    self.numerator = numerator\n",
    "    self.denominator = denominator\n",
    "    self.group_by = group_by\n",
    "    \n",
    "    \n",
    "measures = [\n",
    "   \n",
    "\n",
    "    Measure(\n",
    "        id=\"had_pulse_ox_total\",\n",
    "        numerator=\"had_pulse_ox\",\n",
    "        denominator=\"population\",\n",
    "        group_by=None\n",
    "    ),\n",
    "\n",
    "    Measure(\n",
    "        id=\"had_pulse_ox_event_code\",\n",
    "        numerator=\"had_pulse_ox\",\n",
    "        denominator=\"population\",\n",
    "        group_by=[\"had_pulse_ox_event_code\"]\n",
    "    ),\n",
    "\n",
    "    Measure(\n",
    "        id=\"had_pulse_ox_practice_only\",\n",
    "        numerator=\"had_pulse_ox\",\n",
    "        denominator=\"population\",\n",
    "        group_by=[\"practice\"]\n",
    "    ),\n",
    "\n",
    "    Measure(\n",
    "        id=\"had_pulse_ox_by_region\",\n",
    "        numerator=\"had_pulse_ox\",\n",
    "        denominator=\"population\",\n",
    "        group_by=[\"region\"],\n",
    "    ),\n",
    "\n",
    "    Measure(\n",
    "        id=\"had_pulse_ox_by_sex\",\n",
    "        numerator=\"had_pulse_ox\",\n",
    "        denominator=\"population\",\n",
    "        group_by=[\"sex\"],\n",
    "    ),\n",
    "\n",
    "    Measure(\n",
    "        id=\"had_pulse_ox_by_age_band\",\n",
    "        numerator=\"had_pulse_ox\",\n",
    "        denominator=\"population\",\n",
    "        group_by=[\"age_band\"],\n",
    "    ),\n",
    "\n",
    "\n",
    "    \n",
    "]\n",
    "\n",
    "\n",
    "# Convert date column to datetime and sort by date\n",
    "to_datetime_sort(measures_df_total)\n",
    "to_datetime_sort(measures_df_event_code)\n",
    "to_datetime_sort(measures_df_practice)\n",
    "to_datetime_sort(measures_df_by_region)\n",
    "to_datetime_sort(measures_df_by_age)\n",
    "to_datetime_sort(measures_df_by_sex)\n",
    "\n",
    "\n",
    "# Redact small numbers from measures df\n",
    "# redact_small_numbers(measures_df_total, 5, measures[0])\n",
    "\n",
    "# Calculate rates\n",
    "\n",
    "calculate_rate(measures_df_total, value_col='had_pulse_ox', population_col='population', rate_per=1000)\n",
    "calculate_rate(measures_df_event_code, value_col='had_pulse_ox', population_col='population', rate_per=1000)\n",
    "calculate_rate(measures_df_practice, value_col='had_pulse_ox', population_col='population', rate_per=1000)\n",
    "calculate_rate(measures_df_by_region, value_col='had_pulse_ox', population_col='population', rate_per=1000)\n",
    "calculate_rate(measures_df_by_age, value_col='had_pulse_ox', population_col='population', rate_per=1000)\n",
    "calculate_rate(measures_df_by_sex, value_col='had_pulse_ox', population_col='population', rate_per=1000)\n"
   ]
  },
  {
   "cell_type": "markdown",
   "metadata": {},
   "source": [
    "<a id='total'></a>\n",
    "## Total Pulse Oximetry Number"
   ]
  },
  {
   "cell_type": "code",
   "execution_count": null,
   "metadata": {},
   "outputs": [],
   "source": [
    "plot_measures(measures_df_total, title='Total pulse oximetry across whole population', measure_id='measure_1', column_to_plot='rate', category=False, y_label='Rate per 1000')"
   ]
  },
  {
   "cell_type": "markdown",
   "metadata": {},
   "source": [
    "<a id='child-codes'></a>\n",
    "### Sub totals by child codes\n",
    "\n",
    "Events for the top pulse oximetry subcodes across the study period"
   ]
  },
  {
   "cell_type": "code",
   "execution_count": null,
   "metadata": {},
   "outputs": [],
   "source": [
    "child_table = create_child_table(df=measures_df_event_code, code_df=codelist, code_column='CTV3ID', term_column='term', measure='had_pulse_ox')\n",
    "child_table"
   ]
  },
  {
   "cell_type": "code",
   "execution_count": null,
   "metadata": {},
   "outputs": [],
   "source": [
    "def plot_measures(df, title, measure_id, column_to_plot, category=False, y_label='Rate per 1000', interactive=True):\n",
    "\n",
    "    if interactive:\n",
    "\n",
    "        fig = go.Figure()\n",
    "\n",
    "        if category:\n",
    "            for unique_category in df[category].unique():\n",
    "\n",
    "                df_subset = df[df[category] == unique_category]\n",
    "                fig.add_trace(go.Scatter(\n",
    "                    x=df_subset['date'], y=df_subset[column_to_plot], name=unique_category))\n",
    "\n",
    "        else:\n",
    "            fig.add_trace(go.Scatter(\n",
    "                x=df['date'], y=df[column_to_plot]))\n",
    "\n",
    "        # Set title\n",
    "        fig.update_layout(\n",
    "            title_text=title,\n",
    "            hovermode='x',\n",
    "            title_x=0.5,\n",
    "\n",
    "\n",
    "        )\n",
    "\n",
    "        fig.update_yaxes(title=y_label)\n",
    "        fig.update_xaxes(title=\"Date\")\n",
    "\n",
    "        # Add range slider\n",
    "        fig.update_layout(\n",
    "            xaxis=go.layout.XAxis(\n",
    "                rangeselector=dict(\n",
    "                    buttons=list([\n",
    "                        dict(count=1,\n",
    "                            label=\"1m\",\n",
    "                            step=\"month\",\n",
    "                            stepmode=\"backward\"),\n",
    "                        dict(count=6,\n",
    "                            label=\"6m\",\n",
    "                            step=\"month\",\n",
    "                            stepmode=\"backward\"),\n",
    "\n",
    "                        dict(count=1,\n",
    "                            label=\"1y\",\n",
    "                            step=\"year\",\n",
    "                            stepmode=\"backward\"),\n",
    "                        dict(step=\"all\")\n",
    "                    ])\n",
    "                ),\n",
    "                rangeslider=dict(\n",
    "                    visible=True\n",
    "                ),\n",
    "                type=\"date\"\n",
    "            )\n",
    "        )\n",
    "\n",
    "        fig.show()\n",
    "\n",
    "    else:\n",
    "\n",
    "        if category:\n",
    "            for unique_category in df[category].unique():\n",
    "\n",
    "                df_subset = df[df[category] == unique_category]\n",
    "\n",
    "                plt.plot(df_subset['date'], df_subset[column_to_plot], marker='o')\n",
    "        else:\n",
    "            plt.plot(df['date'], df[column_to_plot], marker='o')\n",
    "\n",
    "        plt.ylabel(y_label)\n",
    "        plt.xlabel('Date')\n",
    "        plt.xticks(rotation='vertical')\n",
    "        plt.title(title)\n",
    "\n",
    "        if category:\n",
    "            plt.legend(df[category].unique(), bbox_to_anchor=(\n",
    "                1.04, 1), loc=\"upper left\")\n",
    "\n",
    "        else:\n",
    "            pass\n",
    "\n",
    "        plt.savefig(f'output/{measure_id}.jpeg', bbox_inches='tight')\n",
    "        plt.show()\n",
    "        plt.clf()\n",
    "\n"
   ]
  },
  {
   "cell_type": "code",
   "execution_count": null,
   "metadata": {},
   "outputs": [],
   "source": [
    "measures_df_event_code['had_pulse_ox_event_code'] = measures_df_event_code['had_pulse_ox_event_code'].astype(str)"
   ]
  },
  {
   "cell_type": "code",
   "execution_count": null,
   "metadata": {},
   "outputs": [],
   "source": [
    "plot_measures(measures_df_event_code, title='Total pulse oximetry across whole populatio for top 5 child codes', measure_id='measure_had_pulse_ox', column_to_plot='rate', category='had_pulse_ox_event_code', y_label='Rate per 1000')"
   ]
  },
  {
   "cell_type": "markdown",
   "metadata": {},
   "source": [
    "<a id='practice'></a>\n",
    "## Total number by practice"
   ]
  },
  {
   "cell_type": "code",
   "execution_count": null,
   "metadata": {},
   "outputs": [],
   "source": [
    "practice_df = pd.read_csv('../output/input_practice_count.csv')\n",
    "practices_dict =calculate_statistics_practices(measures_df_practice, practice_df,\"2020-01-01\")\n",
    "print(f'Practices included entire period: {practices_dict[\"total\"][\"number\"]} ({practices_dict[\"total\"][\"percent\"]}%)')\n",
    "print(f'Practices included within last year: {practices_dict[\"year\"][\"number\"]} ({practices_dict[\"year\"][\"percent\"]}%)')\n",
    "print(f'Practices included within last 3 months: {practices_dict[\"months_3\"][\"number\"]} ({practices_dict[\"months_3\"][\"percent\"]}%)')\n",
    "\n"
   ]
  },
  {
   "cell_type": "code",
   "execution_count": null,
   "metadata": {},
   "outputs": [],
   "source": [
    "interactive_deciles_chart(measures_df_practice, period_column='date', column='had_pulse_ox', title='Decile chart',ylabel='rate per 1000')"
   ]
  },
  {
   "cell_type": "markdown",
   "metadata": {},
   "source": [
    "<a id=\"region\"></a>\n",
    "## Breakdown by Region\n",
    "\n",
    "Number of events within each group."
   ]
  },
  {
   "cell_type": "code",
   "execution_count": null,
   "metadata": {},
   "outputs": [],
   "source": [
    "measures_df_by_region['region'] = measures_df_by_region['region'].replace(np.nan, 'NA')\n",
    "counts_df = calculate_statistics_demographics(df=measures_df_by_region, demographic_var='region', end_date=\"2021-01-01\", event_column='had_pulse_ox')\n",
    "counts_df"
   ]
  },
  {
   "cell_type": "code",
   "execution_count": null,
   "metadata": {},
   "outputs": [],
   "source": [
    "plot_measures(measures_df_by_region, title='Breakdown by region',measure_id='measure_had_pulse_ox', column_to_plot='rate', category='region', y_label='Rate per 1000')\n"
   ]
  },
  {
   "cell_type": "markdown",
   "metadata": {},
   "source": [
    "<a id=\"age\"></a>\n",
    "## Breakdown by Age\n",
    "\n",
    "Number of events within each group."
   ]
  },
  {
   "cell_type": "code",
   "execution_count": null,
   "metadata": {},
   "outputs": [],
   "source": [
    "counts_df = calculate_statistics_demographics(df=measures_df_by_age, demographic_var='age_band', end_date=\"2021-01-01\", event_column='had_pulse_ox')\n",
    "counts_df"
   ]
  },
  {
   "cell_type": "code",
   "execution_count": null,
   "metadata": {},
   "outputs": [],
   "source": [
    "plot_measures(measures_df_by_age, title='Breakdown by age',measure_id='measure_had_pulse_ox', column_to_plot='rate', category='age_band', y_label='Rate per 1000')\n"
   ]
  },
  {
   "cell_type": "markdown",
   "metadata": {},
   "source": [
    "<a id=\"sex\"></a>\n",
    "## Breakdown by Sex\n",
    "\n",
    "Number of events within each group."
   ]
  },
  {
   "cell_type": "code",
   "execution_count": null,
   "metadata": {},
   "outputs": [],
   "source": [
    "counts_df = calculate_statistics_demographics(df=measures_df_by_sex, demographic_var='sex', end_date=\"2021-02-01\", event_column='had_pulse_ox')\n",
    "counts_df"
   ]
  },
  {
   "cell_type": "code",
   "execution_count": null,
   "metadata": {},
   "outputs": [],
   "source": [
    "plot_measures(measures_df_by_sex, title='Breakdown by sex',measure_id='measure_1', column_to_plot='rate', category='sex', y_label='Rate per 1000')"
   ]
  }
 ],
 "metadata": {
  "kernelspec": {
   "display_name": "Python 3",
   "language": "python",
   "name": "python3"
  },
  "language_info": {
   "codemirror_mode": {
    "name": "ipython",
    "version": 3
   },
   "file_extension": ".py",
   "mimetype": "text/x-python",
   "name": "python",
   "nbconvert_exporter": "python",
   "pygments_lexer": "ipython3",
   "version": "3.9.1"
  }
 },
 "nbformat": 4,
 "nbformat_minor": 2
}
